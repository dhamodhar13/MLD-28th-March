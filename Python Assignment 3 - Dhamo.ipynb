{
 "cells": [
  {
   "cell_type": "markdown",
   "metadata": {},
   "source": [
    "# Assignment - 3"
   ]
  },
  {
   "cell_type": "markdown",
   "metadata": {},
   "source": [
    "1.1 Write a Python program to implement your own myreduce() function which works exactly like Python's built-in function reduce()"
   ]
  },
  {
   "cell_type": "code",
   "execution_count": 246,
   "metadata": {},
   "outputs": [
    {
     "name": "stdout",
     "output_type": "stream",
     "text": [
      "Reduced by Addition:  15\n",
      "Reduced by Subtraction:  -5\n",
      "Reduced by Multiplication:  120\n",
      "Reduced by Division:  0.20833333333333334\n",
      "======================\n"
     ]
    }
   ],
   "source": [
    "def add(x,y):\n",
    "    return x+y\n",
    "\n",
    "def sub(x,y):\n",
    "    return x-y\n",
    "\n",
    "def mul(x,y):\n",
    "    return x*y\n",
    "\n",
    "def div(x,y):\n",
    "    return x/y\n",
    "\n",
    "def myreduce(func, iterable, starts_from=None):\n",
    "    it = iter(iterable)                         #Creating an list_iterator object\n",
    "    \n",
    "    if starts_from is None:\n",
    "        value = next(it)                        #Assigning the first item of list to the local variable \"value\"\n",
    "    else:\n",
    "        value = starts_from                     #Assiging the item of local variable \"starts_from\" to the local variable \"value\"\n",
    "        \n",
    "    for element in it:\n",
    "        value = func(value, element)            #Now @value=first item of iterator object; @element=second item of iterator object and Calling the function named \"func\" and the returned value of that function will be restored in the local variable \"value\"\n",
    "    \n",
    "    return value\n",
    "\n",
    "input_list=[5,4,3,2,1]\n",
    "print(\"Reduced by Addition: \",myreduce(add,input_list))         #To add all numbers one by one in the given list\n",
    "print(\"Reduced by Subtraction: \",myreduce(sub,input_list))      #To subtract all numbers one by one in the given list\n",
    "print(\"Reduced by Multiplication: \",myreduce(mul,input_list))   #To multiply all numbers one by one in the given list\n",
    "print(\"Reduced by Division: \",myreduce(div,input_list))         #To divide all numbers one by one in the given list\n",
    "print(\"======================\")"
   ]
  },
  {
   "cell_type": "markdown",
   "metadata": {},
   "source": [
    "1.2 Write a Python program to implement your own myfilter() funciton which works exactly like Python's built-in function filter()"
   ]
  },
  {
   "cell_type": "code",
   "execution_count": 247,
   "metadata": {},
   "outputs": [
    {
     "name": "stdout",
     "output_type": "stream",
     "text": [
      "Largest number of the given sequence:  2478\n",
      "===========================\n"
     ]
    }
   ],
   "source": [
    "def largest_num(iterable):\n",
    "    i=0\n",
    "    for item in iterable:\n",
    "        if item>i:\n",
    "            i=item\n",
    "        else:\n",
    "            pass\n",
    "    return i                       #Return largest number of the given list or sequence to myfilter function\n",
    "    \n",
    "def myfilter(func,iterable):\n",
    "    largest_number=func(iterable) \n",
    "    return largest_number          #Returns the largest number of the given list to where the funciton being called\n",
    "    \n",
    "print(\"Largest number of the given sequence: \",myfilter(largest_num,[378,1222,4,2478,32,12,4]))\n",
    "print(\"===========================\")"
   ]
  },
  {
   "cell_type": "markdown",
   "metadata": {},
   "source": [
    "2. Implement List comprehension to produce teh following lists.\n",
    "\n",
    "Write List comprehensions to produce the following lists\n",
    "\n",
    "['x','xx','xxx','xxxx','y','yy','yyy','yyyy','z','zz','zzz','zzzz']\n",
    "\n",
    "['x','y','z','xx','yy','zz','xxx','yyy','zzz','xxxx','yyyy','zzzz']\n",
    "\n",
    "[[2],[3],[4],[3],[4],[5],[4],[5],[6]]\n",
    "\n",
    "[[2,3,4,5],[3,4,5,6],[4,5,6,7],[5,6,7,8]]\n",
    "\n",
    "[(1,1),(2,1),(3,1),(1,2),(2,2),(3,2),(1,3),(2,3),(3,3)]"
   ]
  },
  {
   "cell_type": "code",
   "execution_count": 248,
   "metadata": {},
   "outputs": [
    {
     "name": "stdout",
     "output_type": "stream",
     "text": [
      "['x', 'xx', 'xxx', 'xxxx', 'y', 'yy', 'yyy', 'yyyy', 'z', 'zz', 'zzz', 'zzzz']\n",
      "['x', 'y', 'z', 'xx', 'yy', 'zz', 'xxx', 'yyy', 'zzz', 'xxxx', 'yyyy', 'zzzz']\n",
      "[[2], [3], [4], [3], [4], [5], [4], [5], [6]]\n",
      "[[2, 3, 4, 5], [3, 4, 5, 6], [4, 5, 6, 7], [5, 6, 7, 8]]\n",
      "[(1, 1), (2, 1), (3, 1), (1, 2), (2, 2), (3, 2), (1, 3), (2, 3), (3, 3)]\n",
      "=================================\n"
     ]
    }
   ],
   "source": [
    "source=['x','y','z']\n",
    "result1=[item*num for item in source for num in range(1,5)]\n",
    "result2=[item*num for num in range(1,5) for item in source]\n",
    "print(result1)\n",
    "print(result2)\n",
    "\n",
    "source1=[2,3,4]\n",
    "result3=[[item+num] for item in source1 for num in range(0,3)]\n",
    "print(result3)\n",
    "\n",
    "source2=[2,3,4,5]\n",
    "result4=[[item+num for item in source2] for num in range(0,4)]\n",
    "print(result4)\n",
    "\n",
    "source3=[1,2,3]\n",
    "result5=[(y,x) for x in source3 for y in source3]\n",
    "print(result5)\n",
    "print(\"=================================\")"
   ]
  }
 ],
 "metadata": {
  "kernelspec": {
   "display_name": "Python 3",
   "language": "python",
   "name": "python3"
  },
  "language_info": {
   "codemirror_mode": {
    "name": "ipython",
    "version": 3
   },
   "file_extension": ".py",
   "mimetype": "text/x-python",
   "name": "python",
   "nbconvert_exporter": "python",
   "pygments_lexer": "ipython3",
   "version": "3.7.3"
  }
 },
 "nbformat": 4,
 "nbformat_minor": 2
}
