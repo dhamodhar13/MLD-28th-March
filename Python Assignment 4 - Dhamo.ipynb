{
 "cells": [
  {
   "cell_type": "markdown",
   "metadata": {},
   "source": [
    "# Python Assignment 4"
   ]
  },
  {
   "cell_type": "markdown",
   "metadata": {},
   "source": [
    "1.1 Write a Python Program(with class concepts) to find the area of the triangle using the below\n",
    "formula.\n",
    "area = (s*(s-a)*(s-b)*(s-c)) ** 0.5\n",
    "Function to take the length of the sides of triangle from user should be defined in the parent\n",
    "class and function to calculate the area should be defined in subclass.\n"
   ]
  },
  {
   "cell_type": "code",
   "execution_count": 204,
   "metadata": {},
   "outputs": [
    {
     "name": "stdout",
     "output_type": "stream",
     "text": [
      "enter the length of all sides in comma seperated form: 3,4,5\n",
      "The Area of Triangle is:  6.0\n",
      "===================\n"
     ]
    }
   ],
   "source": [
    "class get_info():\n",
    "    def __init__(self,a,b,c):\n",
    "        self.a=a\n",
    "        self.b=b\n",
    "        self.c=c\n",
    "    \n",
    "class area(get_info):\n",
    "    def __init__(self,*arg):\n",
    "        super().__init__(*arg)\n",
    "        self.s=0.5*(self.a+self.b+self.c)\n",
    "        \n",
    "    def result(self):\n",
    "        return (self.s*(self.s-self.a)*(self.s-self.b)*(self.s-self.c))**0.5\n",
    "    \n",
    "\n",
    "inputs=(input(\"enter the length of all sides in comma seperated form: \")).split(\",\")\n",
    "a,b,c=map(int,inputs)\n",
    "results=area(a,b,c)\n",
    "print(\"The Area of Triangle is: \",results.result())\n",
    "print(\"===================\")"
   ]
  },
  {
   "cell_type": "markdown",
   "metadata": {},
   "source": [
    "1.2 Write a function filter_long_words() that takes a list of words and an integer n and returns\n",
    "the list of words that are longer than n"
   ]
  },
  {
   "cell_type": "code",
   "execution_count": 205,
   "metadata": {},
   "outputs": [
    {
     "name": "stdout",
     "output_type": "stream",
     "text": [
      "['dhamo', 'dhamodhar']\n",
      "================\n"
     ]
    }
   ],
   "source": [
    "def filter_long_words(input_list,n):\n",
    "    return [word for word in input_list if len(word)>n]\n",
    "            \n",
    "print(filter_long_words(['dhamo','damo','dhamodhar','sing'],4))\n",
    "print(\"================\")"
   ]
  },
  {
   "cell_type": "markdown",
   "metadata": {},
   "source": [
    "2.1 Write a Python program using function concept that maps list of words into a list of integers\n",
    "representing the lengths of the corresponding words.\n",
    "Hint: If a list [ ab,cde,erty] is passed on to the python function output should come as [2,3,4]\n",
    "Here 2,3 and 4 are the lengths of the words in the list."
   ]
  },
  {
   "cell_type": "code",
   "execution_count": 213,
   "metadata": {},
   "outputs": [
    {
     "name": "stdout",
     "output_type": "stream",
     "text": [
      "[3, 6, 3]\n",
      "=============\n"
     ]
    }
   ],
   "source": [
    "def word_lengths(input_list):\n",
    "    return [len(word) for word in input_list]\n",
    "\n",
    "print(word_lengths(['sdd','asdffe','sdf']))\n",
    "print(\"=============\")"
   ]
  },
  {
   "cell_type": "markdown",
   "metadata": {},
   "source": [
    "2.2 Write a Python function which takes a character (i.e. a string of length 1) and returns True if\n",
    "it is a vowel, False otherwise.\n"
   ]
  },
  {
   "cell_type": "code",
   "execution_count": 219,
   "metadata": {},
   "outputs": [
    {
     "name": "stdout",
     "output_type": "stream",
     "text": [
      "Enter a character: e\n",
      "True\n",
      "=================\n"
     ]
    }
   ],
   "source": [
    "vowels=['a','e','i','o','u']\n",
    "def vowel_check(char):\n",
    "    if char in vowels:\n",
    "        return True\n",
    "    else:\n",
    "        return False\n",
    "print(vowel_check(input(\"Enter a character: \")))\n",
    "print(\"=================\")"
   ]
  },
  {
   "cell_type": "code",
   "execution_count": null,
   "metadata": {},
   "outputs": [],
   "source": []
  }
 ],
 "metadata": {
  "kernelspec": {
   "display_name": "Python 3",
   "language": "python",
   "name": "python3"
  },
  "language_info": {
   "codemirror_mode": {
    "name": "ipython",
    "version": 3
   },
   "file_extension": ".py",
   "mimetype": "text/x-python",
   "name": "python",
   "nbconvert_exporter": "python",
   "pygments_lexer": "ipython3",
   "version": "3.7.3"
  }
 },
 "nbformat": 4,
 "nbformat_minor": 2
}
